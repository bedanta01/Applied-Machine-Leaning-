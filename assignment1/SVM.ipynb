{
 "cells": [
  {
   "cell_type": "code",
   "execution_count": 12,
   "metadata": {
    "collapsed": true
   },
   "outputs": [],
   "source": [
    "#svm\n",
    "import numpy as np\n",
    "from sklearn import svm\n",
    "import pandas as pd\n",
    "from sklearn.model_selection import StratifiedKFold\n",
    "from sklearn.metrics import accuracy_score"
   ]
  },
  {
   "cell_type": "code",
   "execution_count": 17,
   "metadata": {
    "collapsed": true
   },
   "outputs": [],
   "source": [
    "#def linear_kernel(x,y):\n",
    "#    return np.dot(x,y.T)\n",
    "\n",
    "def polynomial_kernel(X1,X2,d=2):\n",
    "    gram_matrix = np.zeros((X1.shape[0], X2.shape[0]))\n",
    "    for i, x1 in enumerate(X1):\n",
    "        for j, x2 in enumerate(X2):\n",
    "            x1 = x1.flatten()\n",
    "            x2 = x2.flatten()\n",
    "            gram_matrix[i, j] = pow((np.dot(x1,x2)+1),d)\n",
    "    return gram_matrix\n",
    "\n",
    "\n",
    "def gaussianKernelGramMatrix(X1, X2, sigma=0.1):\n",
    "    gram_matrix = np.zeros((X1.shape[0], X2.shape[0]))\n",
    "    for i, x1 in enumerate(X1):\n",
    "        for j, x2 in enumerate(X2):\n",
    "            x1 = x1.flatten()\n",
    "            x2 = x2.flatten()\n",
    "            gram_matrix[i, j] = np.exp(- np.sum( np.power((x1 - x2),2) ) / float( 2*(sigma**2) ) )\n",
    "    return gram_matrix\n",
    "\n",
    "class multikernel:\n",
    "    "
   ]
  },
  {
   "cell_type": "code",
   "execution_count": 18,
   "metadata": {
    "collapsed": true
   },
   "outputs": [],
   "source": [
    "column_names = ['Age','workclass','fnlgwt','edu','education_num','marital_status','occ','rel_status','race',\n",
    "               'sex','capital_gain','capital_loss','hrs_p_week','native_Country','label']\n",
    "column_names_test = ['Age','workclass','fnlgwt','edu','education_num','marital_status','occ','rel_status','race',\n",
    "               'sex','capital_gain','capital_loss','hrs_p_week','native_Country']\n",
    "train_data = pd.read_csv(\"C:\\\\Users\\\\HP\\\\Documents\\\\IIT HYDERABAD NOTES\\\\Applied ML\\\\svm\\\\data.tar\\\\data\\\\train.csv\",\n",
    "                        names = column_names)\n",
    "test_data  = pd.read_csv(\"C:\\\\Users\\\\HP\\\\Documents\\\\IIT HYDERABAD NOTES\\\\Applied ML\\\\svm\\\\data.tar\\\\data\\\\test.csv\",\n",
    "                        names = column_names_test)\n",
    "\n",
    "train_data['Age'].fillna((train_data['Age'].mean()), inplace=True)\n",
    "train_data['fnlgwt'].fillna((train_data['fnlgwt'].mean()), inplace=True)\n",
    "train_data['education_num'].fillna((train_data['education_num'].mean()), inplace=True)\n",
    "train_data['capital_gain'].fillna((train_data['capital_gain'].mean()), inplace=True)\n",
    "train_data['capital_loss'].fillna((train_data['capital_loss'].mean()), inplace=True)\n",
    "train_data['hrs_p_week'].fillna((train_data['hrs_p_week'].mean()), inplace=True)\n",
    "\n",
    "test_data['Age'].fillna((train_data['Age'].mean()), inplace=True)\n",
    "test_data['fnlgwt'].fillna((train_data['fnlgwt'].mean()), inplace=True)\n",
    "test_data['education_num'].fillna((train_data['education_num'].mean()), inplace=True)\n",
    "test_data['capital_gain'].fillna((train_data['capital_gain'].mean()), inplace=True)\n",
    "test_data['capital_loss'].fillna((train_data['capital_loss'].mean()), inplace=True)\n",
    "test_data['hrs_p_week'].fillna((train_data['hrs_p_week'].mean()), inplace=True)\n",
    "#print(train_data['label'])"
   ]
  },
  {
   "cell_type": "code",
   "execution_count": 19,
   "metadata": {
    "collapsed": true
   },
   "outputs": [],
   "source": [
    "train_data['workclass'] = train_data['workclass'].astype('category')\n",
    "train_data['edu'] = train_data['edu'].astype('category')\n",
    "train_data['marital_status'] = train_data['marital_status'].astype('category')\n",
    "train_data['occ'] = train_data['occ'].astype('category')\n",
    "train_data['rel_status'] = train_data['rel_status'].astype('category')\n",
    "train_data['race'] = train_data['race'].astype('category')\n",
    "train_data['sex'] = train_data['workclass'].astype('category')\n",
    "train_data['native_Country'] = train_data['workclass'].astype('category')\n",
    "\n",
    "test_data['workclass'] = train_data['workclass'].astype('category')\n",
    "test_data['edu'] = train_data['edu'].astype('category')\n",
    "test_data['marital_status'] = train_data['marital_status'].astype('category')\n",
    "test_data['occ'] = train_data['occ'].astype('category')\n",
    "test_data['rel_status'] = train_data['rel_status'].astype('category')\n",
    "test_data['race'] = train_data['race'].astype('category')\n",
    "test_data['sex'] = train_data['workclass'].astype('category')\n",
    "test_data['native_Country'] = train_data['workclass'].astype('category')\n"
   ]
  },
  {
   "cell_type": "code",
   "execution_count": 25,
   "metadata": {
    "scrolled": true
   },
   "outputs": [
    {
     "name": "stdout",
     "output_type": "stream",
     "text": [
      "linear kernel accuracy\n",
      "0.8054089801601115\n",
      "gaussian kernel accuracy\n",
      "0.7759415245388096\n",
      "polynomia kernel accuracy\n",
      "0.6733379742429516\n"
     ]
    }
   ],
   "source": [
    "cat_cols = train_data.select_dtypes(['category']).columns\n",
    "#print(cat_cols)\n",
    "train_data[cat_cols] = train_data[cat_cols].apply(lambda x : x.cat.codes)\n",
    "test_data[cat_cols] = test_data[cat_cols].apply(lambda x : x.cat.codes)\n",
    "\n",
    "split_criteria = np.random.rand(len(train_data))<1\n",
    "train_data_cut = train_data[split_criteria]\n",
    "\n",
    "\n",
    "#data_set = train_data.values.tolist()\n",
    "labels = np.array(train_data_cut['label'])\n",
    "#print(train_data.head())\n",
    "train_data_cut = train_data_cut.drop([\"label\"],axis=1)\n",
    "data_set = np.array(train_data_cut)\n",
    "\n",
    "\n",
    "classif_linear= svm.SVC(kernel = \"precomputed\")\n",
    "classif_polynomial = svm.SVC(kernel = \"precomputed\")\n",
    "classif_gaussian = svm.SVC(kernel =\"precomputed\")\n",
    "\n",
    "accuracy_linear = 0\n",
    "accuracy_gaussian = 0\n",
    "accuracy_poly = 0\n",
    "\n",
    "kfold = StratifiedKFold(n_splits=5,shuffle=True)\n",
    "for train_indexes, test_indexes in kfold.split(data_set,labels):\n",
    "    \n",
    "    trainX, trainY = data_set[train_indexes], labels[train_indexes]\n",
    "    testX, testY = data_set[test_indexes], labels[test_indexes]\n",
    "    \n",
    "    linear_gram_train = np.dot(trainX,trainX.T)\n",
    "    linear_gram_test = np.dot(testX,trainX.T)\n",
    "    \n",
    "    gaussian_gram_train = gaussianKernelGramMatrix(trainX,trainX)\n",
    "    gaussian_gram_test = gaussianKernelGramMatrix(testX,trainX)\n",
    "    \n",
    "    polynomial_gram_train = polynomial_kernel(trainX,trainX,3)\n",
    "    polynomial_gram_test = polynomial_kernel(testX,trainX,3)\n",
    "    \n",
    "    classif_linear.fit(linear_gram_train,trainY)\n",
    "    classif_gaussian.fit(gaussian_gram_train,trainY)\n",
    "    classif_polynomial.fit(polynomial_gram_train,trainY)\n",
    "    \n",
    "    pred_linear = classif_linear.predict(linear_gram_test)\n",
    "    pred_gaussian = classif_gaussian.predict(gaussian_gram_test)\n",
    "    pred_polynomial = classif_polynomial.predict(polynomial_gram_test)\n",
    "    \n",
    "    accuracy_linear += accuracy_score(testY,pred_linear)#classif_linear.score(testX,testY)\n",
    "    accuracy_poly += accuracy_score(testY,pred_polynomial)\n",
    "    accuracy_gaussian += accuracy_score(testY, pred_gaussian)#classif_gaussian.score(testX,testY)\n",
    "\n",
    "print(\"linear kernel accuracy\")\n",
    "print(float(accuracy_linear)/5)\n",
    "print(\"gaussian kernel accuracy\")\n",
    "print(float(accuracy_gaussian)/5)\n",
    "print(\"polynomia kernel accuracy\")\n",
    "print(float(accuracy_poly)/5)"
   ]
  },
  {
   "cell_type": "code",
   "execution_count": null,
   "metadata": {
    "collapsed": true
   },
   "outputs": [],
   "source": []
  }
 ],
 "metadata": {
  "kernelspec": {
   "display_name": "Python 3",
   "language": "python",
   "name": "python3"
  },
  "language_info": {
   "codemirror_mode": {
    "name": "ipython",
    "version": 3
   },
   "file_extension": ".py",
   "mimetype": "text/x-python",
   "name": "python",
   "nbconvert_exporter": "python",
   "pygments_lexer": "ipython3",
   "version": "3.5.3"
  }
 },
 "nbformat": 4,
 "nbformat_minor": 2
}
